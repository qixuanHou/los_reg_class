{
 "cells": [
  {
   "cell_type": "code",
   "execution_count": 27,
   "metadata": {},
   "outputs": [],
   "source": [
    "from datetime import datetime\n",
    "import pandas as pd\n",
    "import numpy as np\n",
    "import matplotlib.pyplot as plt\n",
    "import seaborn as sns\n",
    "from helper2 import boxplot_los_groupby, plot_los_groupby "
   ]
  },
  {
   "cell_type": "code",
   "execution_count": 2,
   "metadata": {},
   "outputs": [],
   "source": [
    "# Primary Admissions information\n",
    "df = pd.read_csv('data/ADMISSIONS.csv')\n",
    "\n",
    "# Patient specific info such as gender\n",
    "df_pat = pd.read_csv('data/PATIENTS.csv')\n",
    "\n",
    "# Diagnosis for each admission to hospital\n",
    "df_diagcode = pd.read_csv('data/DIAGNOSES_ICD.csv')\n",
    "\n",
    "# Intensive Care Unit (ICU) for each admission to hospital\n",
    "df_icu = pd.read_csv('data/ICUSTAYS.csv')"
   ]
  },
  {
   "cell_type": "markdown",
   "metadata": {},
   "source": [
    "## ADMISSIONS.csv\n",
    "\n",
    "several things I want to address in this table \n",
    "\n",
    "* calculate LOS for each admission event\n",
    "* remove negative LOS\n",
    "* remove admission which leads to death\n"
   ]
  },
  {
   "cell_type": "code",
   "execution_count": 7,
   "metadata": {},
   "outputs": [
    {
     "data": {
      "text/html": [
       "<div>\n",
       "<style scoped>\n",
       "    .dataframe tbody tr th:only-of-type {\n",
       "        vertical-align: middle;\n",
       "    }\n",
       "\n",
       "    .dataframe tbody tr th {\n",
       "        vertical-align: top;\n",
       "    }\n",
       "\n",
       "    .dataframe thead th {\n",
       "        text-align: right;\n",
       "    }\n",
       "</style>\n",
       "<table border=\"1\" class=\"dataframe\">\n",
       "  <thead>\n",
       "    <tr style=\"text-align: right;\">\n",
       "      <th></th>\n",
       "      <th>ROW_ID</th>\n",
       "      <th>SUBJECT_ID</th>\n",
       "      <th>HADM_ID</th>\n",
       "      <th>ADMITTIME</th>\n",
       "      <th>DISCHTIME</th>\n",
       "      <th>DEATHTIME</th>\n",
       "      <th>ADMISSION_TYPE</th>\n",
       "      <th>ADMISSION_LOCATION</th>\n",
       "      <th>DISCHARGE_LOCATION</th>\n",
       "      <th>INSURANCE</th>\n",
       "      <th>LANGUAGE</th>\n",
       "      <th>RELIGION</th>\n",
       "      <th>MARITAL_STATUS</th>\n",
       "      <th>ETHNICITY</th>\n",
       "      <th>EDREGTIME</th>\n",
       "      <th>EDOUTTIME</th>\n",
       "      <th>DIAGNOSIS</th>\n",
       "      <th>HOSPITAL_EXPIRE_FLAG</th>\n",
       "      <th>HAS_CHARTEVENTS_DATA</th>\n",
       "    </tr>\n",
       "  </thead>\n",
       "  <tbody>\n",
       "    <tr>\n",
       "      <th>0</th>\n",
       "      <td>21</td>\n",
       "      <td>22</td>\n",
       "      <td>165315</td>\n",
       "      <td>2196-04-09 12:26:00</td>\n",
       "      <td>2196-04-10 15:54:00</td>\n",
       "      <td>NaN</td>\n",
       "      <td>EMERGENCY</td>\n",
       "      <td>EMERGENCY ROOM ADMIT</td>\n",
       "      <td>DISC-TRAN CANCER/CHLDRN H</td>\n",
       "      <td>Private</td>\n",
       "      <td>NaN</td>\n",
       "      <td>UNOBTAINABLE</td>\n",
       "      <td>MARRIED</td>\n",
       "      <td>WHITE</td>\n",
       "      <td>2196-04-09 10:06:00</td>\n",
       "      <td>2196-04-09 13:24:00</td>\n",
       "      <td>BENZODIAZEPINE OVERDOSE</td>\n",
       "      <td>0</td>\n",
       "      <td>1</td>\n",
       "    </tr>\n",
       "    <tr>\n",
       "      <th>1</th>\n",
       "      <td>22</td>\n",
       "      <td>23</td>\n",
       "      <td>152223</td>\n",
       "      <td>2153-09-03 07:15:00</td>\n",
       "      <td>2153-09-08 19:10:00</td>\n",
       "      <td>NaN</td>\n",
       "      <td>ELECTIVE</td>\n",
       "      <td>PHYS REFERRAL/NORMAL DELI</td>\n",
       "      <td>HOME HEALTH CARE</td>\n",
       "      <td>Medicare</td>\n",
       "      <td>NaN</td>\n",
       "      <td>CATHOLIC</td>\n",
       "      <td>MARRIED</td>\n",
       "      <td>WHITE</td>\n",
       "      <td>NaN</td>\n",
       "      <td>NaN</td>\n",
       "      <td>CORONARY ARTERY DISEASE\\CORONARY ARTERY BYPASS...</td>\n",
       "      <td>0</td>\n",
       "      <td>1</td>\n",
       "    </tr>\n",
       "    <tr>\n",
       "      <th>2</th>\n",
       "      <td>23</td>\n",
       "      <td>23</td>\n",
       "      <td>124321</td>\n",
       "      <td>2157-10-18 19:34:00</td>\n",
       "      <td>2157-10-25 14:00:00</td>\n",
       "      <td>NaN</td>\n",
       "      <td>EMERGENCY</td>\n",
       "      <td>TRANSFER FROM HOSP/EXTRAM</td>\n",
       "      <td>HOME HEALTH CARE</td>\n",
       "      <td>Medicare</td>\n",
       "      <td>ENGL</td>\n",
       "      <td>CATHOLIC</td>\n",
       "      <td>MARRIED</td>\n",
       "      <td>WHITE</td>\n",
       "      <td>NaN</td>\n",
       "      <td>NaN</td>\n",
       "      <td>BRAIN MASS</td>\n",
       "      <td>0</td>\n",
       "      <td>1</td>\n",
       "    </tr>\n",
       "    <tr>\n",
       "      <th>3</th>\n",
       "      <td>24</td>\n",
       "      <td>24</td>\n",
       "      <td>161859</td>\n",
       "      <td>2139-06-06 16:14:00</td>\n",
       "      <td>2139-06-09 12:48:00</td>\n",
       "      <td>NaN</td>\n",
       "      <td>EMERGENCY</td>\n",
       "      <td>TRANSFER FROM HOSP/EXTRAM</td>\n",
       "      <td>HOME</td>\n",
       "      <td>Private</td>\n",
       "      <td>NaN</td>\n",
       "      <td>PROTESTANT QUAKER</td>\n",
       "      <td>SINGLE</td>\n",
       "      <td>WHITE</td>\n",
       "      <td>NaN</td>\n",
       "      <td>NaN</td>\n",
       "      <td>INTERIOR MYOCARDIAL INFARCTION</td>\n",
       "      <td>0</td>\n",
       "      <td>1</td>\n",
       "    </tr>\n",
       "    <tr>\n",
       "      <th>4</th>\n",
       "      <td>25</td>\n",
       "      <td>25</td>\n",
       "      <td>129635</td>\n",
       "      <td>2160-11-02 02:06:00</td>\n",
       "      <td>2160-11-05 14:55:00</td>\n",
       "      <td>NaN</td>\n",
       "      <td>EMERGENCY</td>\n",
       "      <td>EMERGENCY ROOM ADMIT</td>\n",
       "      <td>HOME</td>\n",
       "      <td>Private</td>\n",
       "      <td>NaN</td>\n",
       "      <td>UNOBTAINABLE</td>\n",
       "      <td>MARRIED</td>\n",
       "      <td>WHITE</td>\n",
       "      <td>2160-11-02 01:01:00</td>\n",
       "      <td>2160-11-02 04:27:00</td>\n",
       "      <td>ACUTE CORONARY SYNDROME</td>\n",
       "      <td>0</td>\n",
       "      <td>1</td>\n",
       "    </tr>\n",
       "  </tbody>\n",
       "</table>\n",
       "</div>"
      ],
      "text/plain": [
       "   ROW_ID  SUBJECT_ID  HADM_ID            ADMITTIME            DISCHTIME  \\\n",
       "0      21          22   165315  2196-04-09 12:26:00  2196-04-10 15:54:00   \n",
       "1      22          23   152223  2153-09-03 07:15:00  2153-09-08 19:10:00   \n",
       "2      23          23   124321  2157-10-18 19:34:00  2157-10-25 14:00:00   \n",
       "3      24          24   161859  2139-06-06 16:14:00  2139-06-09 12:48:00   \n",
       "4      25          25   129635  2160-11-02 02:06:00  2160-11-05 14:55:00   \n",
       "\n",
       "  DEATHTIME ADMISSION_TYPE         ADMISSION_LOCATION  \\\n",
       "0       NaN      EMERGENCY       EMERGENCY ROOM ADMIT   \n",
       "1       NaN       ELECTIVE  PHYS REFERRAL/NORMAL DELI   \n",
       "2       NaN      EMERGENCY  TRANSFER FROM HOSP/EXTRAM   \n",
       "3       NaN      EMERGENCY  TRANSFER FROM HOSP/EXTRAM   \n",
       "4       NaN      EMERGENCY       EMERGENCY ROOM ADMIT   \n",
       "\n",
       "          DISCHARGE_LOCATION INSURANCE LANGUAGE           RELIGION  \\\n",
       "0  DISC-TRAN CANCER/CHLDRN H   Private      NaN       UNOBTAINABLE   \n",
       "1           HOME HEALTH CARE  Medicare      NaN           CATHOLIC   \n",
       "2           HOME HEALTH CARE  Medicare     ENGL           CATHOLIC   \n",
       "3                       HOME   Private      NaN  PROTESTANT QUAKER   \n",
       "4                       HOME   Private      NaN       UNOBTAINABLE   \n",
       "\n",
       "  MARITAL_STATUS ETHNICITY            EDREGTIME            EDOUTTIME  \\\n",
       "0        MARRIED     WHITE  2196-04-09 10:06:00  2196-04-09 13:24:00   \n",
       "1        MARRIED     WHITE                  NaN                  NaN   \n",
       "2        MARRIED     WHITE                  NaN                  NaN   \n",
       "3         SINGLE     WHITE                  NaN                  NaN   \n",
       "4        MARRIED     WHITE  2160-11-02 01:01:00  2160-11-02 04:27:00   \n",
       "\n",
       "                                           DIAGNOSIS  HOSPITAL_EXPIRE_FLAG  \\\n",
       "0                            BENZODIAZEPINE OVERDOSE                     0   \n",
       "1  CORONARY ARTERY DISEASE\\CORONARY ARTERY BYPASS...                     0   \n",
       "2                                         BRAIN MASS                     0   \n",
       "3                     INTERIOR MYOCARDIAL INFARCTION                     0   \n",
       "4                            ACUTE CORONARY SYNDROME                     0   \n",
       "\n",
       "   HAS_CHARTEVENTS_DATA  \n",
       "0                     1  \n",
       "1                     1  \n",
       "2                     1  \n",
       "3                     1  \n",
       "4                     1  "
      ]
     },
     "execution_count": 7,
     "metadata": {},
     "output_type": "execute_result"
    }
   ],
   "source": [
    "df.head()"
   ]
  },
  {
   "cell_type": "markdown",
   "metadata": {},
   "source": [
    "### LOS"
   ]
  },
  {
   "cell_type": "code",
   "execution_count": 8,
   "metadata": {},
   "outputs": [
    {
     "data": {
      "text/html": [
       "<div>\n",
       "<style scoped>\n",
       "    .dataframe tbody tr th:only-of-type {\n",
       "        vertical-align: middle;\n",
       "    }\n",
       "\n",
       "    .dataframe tbody tr th {\n",
       "        vertical-align: top;\n",
       "    }\n",
       "\n",
       "    .dataframe thead th {\n",
       "        text-align: right;\n",
       "    }\n",
       "</style>\n",
       "<table border=\"1\" class=\"dataframe\">\n",
       "  <thead>\n",
       "    <tr style=\"text-align: right;\">\n",
       "      <th></th>\n",
       "      <th>ADMITTIME</th>\n",
       "      <th>DISCHTIME</th>\n",
       "      <th>LOS</th>\n",
       "    </tr>\n",
       "  </thead>\n",
       "  <tbody>\n",
       "    <tr>\n",
       "      <th>0</th>\n",
       "      <td>2196-04-09 12:26:00</td>\n",
       "      <td>2196-04-10 15:54:00</td>\n",
       "      <td>1.144444</td>\n",
       "    </tr>\n",
       "    <tr>\n",
       "      <th>1</th>\n",
       "      <td>2153-09-03 07:15:00</td>\n",
       "      <td>2153-09-08 19:10:00</td>\n",
       "      <td>5.496528</td>\n",
       "    </tr>\n",
       "    <tr>\n",
       "      <th>2</th>\n",
       "      <td>2157-10-18 19:34:00</td>\n",
       "      <td>2157-10-25 14:00:00</td>\n",
       "      <td>6.768056</td>\n",
       "    </tr>\n",
       "    <tr>\n",
       "      <th>3</th>\n",
       "      <td>2139-06-06 16:14:00</td>\n",
       "      <td>2139-06-09 12:48:00</td>\n",
       "      <td>2.856944</td>\n",
       "    </tr>\n",
       "    <tr>\n",
       "      <th>4</th>\n",
       "      <td>2160-11-02 02:06:00</td>\n",
       "      <td>2160-11-05 14:55:00</td>\n",
       "      <td>3.534028</td>\n",
       "    </tr>\n",
       "  </tbody>\n",
       "</table>\n",
       "</div>"
      ],
      "text/plain": [
       "            ADMITTIME           DISCHTIME       LOS\n",
       "0 2196-04-09 12:26:00 2196-04-10 15:54:00  1.144444\n",
       "1 2153-09-03 07:15:00 2153-09-08 19:10:00  5.496528\n",
       "2 2157-10-18 19:34:00 2157-10-25 14:00:00  6.768056\n",
       "3 2139-06-06 16:14:00 2139-06-09 12:48:00  2.856944\n",
       "4 2160-11-02 02:06:00 2160-11-05 14:55:00  3.534028"
      ]
     },
     "execution_count": 8,
     "metadata": {},
     "output_type": "execute_result"
    }
   ],
   "source": [
    "df['ADMITTIME'] = pd.to_datetime(df['ADMITTIME'])\n",
    "df['DISCHTIME'] = pd.to_datetime(df['DISCHTIME'])\n",
    "df['LOS'] = (df['DISCHTIME'] - df['ADMITTIME']).dt.total_seconds()/86400\n",
    "df[['ADMITTIME', 'DISCHTIME', 'LOS']].head()"
   ]
  },
  {
   "cell_type": "code",
   "execution_count": 13,
   "metadata": {},
   "outputs": [],
   "source": [
    "df = df[df['LOS'] > 0]\n",
    "df['DECEASED'] = df['DEATHTIME'].notnull().map({True:1, False:0})\n",
    "df = df[df['DECEASED'] == 0]"
   ]
  },
  {
   "cell_type": "code",
   "execution_count": 14,
   "metadata": {},
   "outputs": [
    {
     "data": {
      "image/png": "[encoded data removed]",
      "text/plain": [
       "<Figure size 432x288 with 1 Axes>"
      ]
     },
     "metadata": {
      "needs_background": "light"
     },
     "output_type": "display_data"
    }
   ],
   "source": [
    "# Plot LOS Distribution\n",
    "plt.hist(df['LOS'], bins=200, color = '#55a868')\n",
    "plt.xlim(0, 50)\n",
    "plt.title('Distribution of LOS for all hospital admissions \\n incl. deceased')\n",
    "plt.ylabel('Count')\n",
    "plt.xlabel('Length-of-Stay (days)')\n",
    "plt.tick_params(top=False, right=False) \n",
    "plt.show();"
   ]
  },
  {
   "cell_type": "code",
   "execution_count": 15,
   "metadata": {},
   "outputs": [
    {
     "data": {
      "text/plain": [
       "count    53104.000000\n",
       "mean        10.138174\n",
       "std         12.284461\n",
       "min          0.014583\n",
       "25%          3.866667\n",
       "50%          6.565972\n",
       "75%         11.711632\n",
       "max        294.660417\n",
       "Name: LOS, dtype: float64"
      ]
     },
     "execution_count": 15,
     "metadata": {},
     "output_type": "execute_result"
    }
   ],
   "source": [
    "df['LOS'].describe()"
   ]
  },
  {
   "cell_type": "code",
   "execution_count": 34,
   "metadata": {},
   "outputs": [
    {
     "data": {
      "text/plain": [
       "EMERGENCY    36627\n",
       "NEWBORN       7797\n",
       "ELECTIVE      7505\n",
       "URGENT        1175\n",
       "Name: ADMISSION_TYPE, dtype: int64"
      ]
     },
     "execution_count": 34,
     "metadata": {},
     "output_type": "execute_result"
    }
   ],
   "source": [
    "df['ADMISSION_TYPE'].value_counts()"
   ]
  },
  {
   "cell_type": "code",
   "execution_count": 35,
   "metadata": {},
   "outputs": [
    {
     "data": {
      "image/png": "[encoded data removed]",
      "text/plain": [
       "<Figure size 504x288 with 1 Axes>"
      ]
     },
     "metadata": {
      "needs_background": "light"
     },
     "output_type": "display_data"
    }
   ],
   "source": [
    "boxplot_los_groupby(df, 'ADMISSION_TYPE', los_range=(-5, 35), size=(7, 4))"
   ]
  },
  {
   "cell_type": "code",
   "execution_count": 36,
   "metadata": {},
   "outputs": [
    {
     "data": {
      "text/plain": [
       "Medicare      24308\n",
       "Private       21188\n",
       "Medicaid       5401\n",
       "Government     1693\n",
       "Self Pay        514\n",
       "Name: INSURANCE, dtype: int64"
      ]
     },
     "execution_count": 36,
     "metadata": {},
     "output_type": "execute_result"
    }
   ],
   "source": [
    "df['INSURANCE'].value_counts()"
   ]
  },
  {
   "cell_type": "code",
   "execution_count": 38,
   "metadata": {},
   "outputs": [
    {
     "data": {
      "image/png": "[encoded data removed]",
      "text/plain": [
       "<Figure size 504x288 with 1 Axes>"
      ]
     },
     "metadata": {
      "needs_background": "light"
     },
     "output_type": "display_data"
    }
   ],
   "source": [
    "boxplot_los_groupby(df, 'INSURANCE', los_range=(-5, 30), size=(7, 4))"
   ]
  },
  {
   "cell_type": "code",
   "execution_count": 39,
   "metadata": {},
   "outputs": [
    {
     "data": {
      "text/plain": [
       "MARRIED              21623\n",
       "SINGLE               12158\n",
       "NaN                   9459\n",
       "WIDOWED               6158\n",
       "DIVORCED              2894\n",
       "SEPARATED              517\n",
       "UNKNOWN (DEFAULT)      280\n",
       "LIFE PARTNER            15\n",
       "Name: MARITAL_STATUS, dtype: int64"
      ]
     },
     "execution_count": 39,
     "metadata": {},
     "output_type": "execute_result"
    }
   ],
   "source": [
    "df['MARITAL_STATUS'].value_counts(dropna=False)\n"
   ]
  },
  {
   "cell_type": "code",
   "execution_count": 40,
   "metadata": {},
   "outputs": [
    {
     "data": {
      "text/plain": [
       "MARRIED              21623\n",
       "SINGLE               12158\n",
       "UNKNOWN (DEFAULT)     9739\n",
       "WIDOWED               6158\n",
       "DIVORCED              2894\n",
       "SEPARATED              517\n",
       "LIFE PARTNER            15\n",
       "Name: MARITAL_STATUS, dtype: int64"
      ]
     },
     "execution_count": 40,
     "metadata": {},
     "output_type": "execute_result"
    }
   ],
   "source": [
    "# Fix NaNs and file under 'UNKNOWN'\n",
    "df['MARITAL_STATUS'] = df['MARITAL_STATUS'].fillna('UNKNOWN (DEFAULT)')\n",
    "df['MARITAL_STATUS'].value_counts(dropna=False)"
   ]
  },
  {
   "cell_type": "code",
   "execution_count": 44,
   "metadata": {},
   "outputs": [
    {
     "data": {
      "image/png": "[encoded data removed]",
      "text/plain": [
       "<Figure size 576x288 with 1 Axes>"
      ]
     },
     "metadata": {
      "needs_background": "light"
     },
     "output_type": "display_data"
    }
   ],
   "source": [
    "boxplot_los_groupby(df, 'MARITAL_STATUS')"
   ]
  },
  {
   "cell_type": "code",
   "execution_count": 17,
   "metadata": {},
   "outputs": [
    {
     "data": {
      "text/plain": [
       "WHITE                                                       36938\n",
       "BLACK/AFRICAN AMERICAN                                       5039\n",
       "UNKNOWN/NOT SPECIFIED                                        3782\n",
       "HISPANIC OR LATINO                                           1590\n",
       "ASIAN                                                        1404\n",
       "OTHER                                                        1389\n",
       "UNABLE TO OBTAIN                                              655\n",
       "PATIENT DECLINED TO ANSWER                                    518\n",
       "ASIAN - CHINESE                                               250\n",
       "HISPANIC/LATINO - PUERTO RICAN                                220\n",
       "BLACK/CAPE VERDEAN                                            188\n",
       "WHITE - RUSSIAN                                               142\n",
       "MULTI RACE ETHNICITY                                          121\n",
       "BLACK/HAITIAN                                                  95\n",
       "ASIAN - ASIAN INDIAN                                           82\n",
       "HISPANIC/LATINO - DOMINICAN                                    75\n",
       "WHITE - OTHER EUROPEAN                                         74\n",
       "WHITE - BRAZILIAN                                              58\n",
       "PORTUGUESE                                                     58\n",
       "AMERICAN INDIAN/ALASKA NATIVE                                  48\n",
       "ASIAN - VIETNAMESE                                             47\n",
       "MIDDLE EASTERN                                                 41\n",
       "BLACK/AFRICAN                                                  41\n",
       "HISPANIC/LATINO - GUATEMALAN                                   39\n",
       "HISPANIC/LATINO - CUBAN                                        24\n",
       "ASIAN - FILIPINO                                               23\n",
       "WHITE - EASTERN EUROPEAN                                       23\n",
       "HISPANIC/LATINO - SALVADORAN                                   19\n",
       "ASIAN - OTHER                                                  15\n",
       "NATIVE HAWAIIAN OR OTHER PACIFIC ISLANDER                      14\n",
       "ASIAN - CAMBODIAN                                              13\n",
       "HISPANIC/LATINO - CENTRAL AMERICAN (OTHER)                     13\n",
       "HISPANIC/LATINO - MEXICAN                                      13\n",
       "ASIAN - KOREAN                                                 12\n",
       "CARIBBEAN ISLAND                                                9\n",
       "HISPANIC/LATINO - COLOMBIAN                                     9\n",
       "SOUTH AMERICAN                                                  8\n",
       "ASIAN - JAPANESE                                                5\n",
       "ASIAN - THAI                                                    4\n",
       "HISPANIC/LATINO - HONDURAN                                      4\n",
       "AMERICAN INDIAN/ALASKA NATIVE FEDERALLY RECOGNIZED TRIBE        2\n",
       "Name: ETHNICITY, dtype: int64"
      ]
     },
     "execution_count": 17,
     "metadata": {},
     "output_type": "execute_result"
    }
   ],
   "source": [
    "df['ETHNICITY'].value_counts()"
   ]
  },
  {
   "cell_type": "code",
   "execution_count": 18,
   "metadata": {},
   "outputs": [
    {
     "name": "stderr",
     "output_type": "stream",
     "text": [
      "/Library/Frameworks/Python.framework/Versions/3.8/lib/python3.8/site-packages/pandas/core/indexing.py:670: SettingWithCopyWarning: \n",
      "A value is trying to be set on a copy of a slice from a DataFrame\n",
      "\n",
      "See the caveats in the documentation: https://pandas.pydata.org/pandas-docs/stable/user_guide/indexing.html#returning-a-view-versus-a-copy\n",
      "  iloc._setitem_with_indexer(indexer, value)\n"
     ]
    },
    {
     "data": {
      "text/plain": [
       "WHITE                     37235\n",
       "OTHER/UNKNOWN              6645\n",
       "BLACK/AFRICAN AMERICAN     5363\n",
       "HISPANIC/LATINO            2006\n",
       "ASIAN                      1855\n",
       "Name: ETHNICITY, dtype: int64"
      ]
     },
     "execution_count": 18,
     "metadata": {},
     "output_type": "execute_result"
    }
   ],
   "source": [
    "# Compress the number of ethnicity categories\n",
    "df['ETHNICITY'].replace(regex=r'^ASIAN\\D*', value='ASIAN', inplace=True)\n",
    "df['ETHNICITY'].replace(regex=r'^WHITE\\D*', value='WHITE', inplace=True)\n",
    "df['ETHNICITY'].replace(regex=r'^HISPANIC\\D*', value='HISPANIC/LATINO', inplace=True)\n",
    "df['ETHNICITY'].replace(regex=r'^BLACK\\D*', value='BLACK/AFRICAN AMERICAN', inplace=True)\n",
    "df['ETHNICITY'].replace(['UNABLE TO OBTAIN', 'OTHER', 'PATIENT DECLINED TO ANSWER', \n",
    "                         'UNKNOWN/NOT SPECIFIED'], value='OTHER/UNKNOWN', inplace=True)\n",
    "df['ETHNICITY'].loc[~df['ETHNICITY'].isin(df['ETHNICITY'].value_counts().nlargest(5).index.tolist())] = 'OTHER/UNKNOWN'\n",
    "df['ETHNICITY'].value_counts()"
   ]
  },
  {
   "cell_type": "code",
   "execution_count": 28,
   "metadata": {},
   "outputs": [
    {
     "data": {
      "image/png": "[encoded data removed]",
      "text/plain": [
       "<Figure size 576x288 with 1 Axes>"
      ]
     },
     "metadata": {
      "needs_background": "light"
     },
     "output_type": "display_data"
    }
   ],
   "source": [
    "boxplot_los_groupby(df, 'ETHNICITY', los_range=(-1, 30))"
   ]
  },
  {
   "cell_type": "code",
   "execution_count": 29,
   "metadata": {},
   "outputs": [
    {
     "data": {
      "text/plain": [
       "CATHOLIC                  18676\n",
       "NOT SPECIFIED             10816\n",
       "UNOBTAINABLE               7151\n",
       "PROTESTANT QUAKER          6473\n",
       "JEWISH                     4644\n",
       "OTHER                      2480\n",
       "EPISCOPALIAN                706\n",
       "GREEK ORTHODOX              421\n",
       "CHRISTIAN SCIENTIST         397\n",
       "BUDDHIST                    248\n",
       "MUSLIM                      212\n",
       "JEHOVAH'S WITNESS           122\n",
       "UNITARIAN-UNIVERSALIST      106\n",
       "HINDU                       104\n",
       "7TH DAY ADVENTIST            76\n",
       "ROMANIAN EAST. ORTH          72\n",
       "BAPTIST                      20\n",
       "HEBREW                       12\n",
       "METHODIST                     6\n",
       "LUTHERAN                      1\n",
       "Name: RELIGION, dtype: int64"
      ]
     },
     "execution_count": 29,
     "metadata": {},
     "output_type": "execute_result"
    }
   ],
   "source": [
    "df['RELIGION'].value_counts()"
   ]
  },
  {
   "cell_type": "code",
   "execution_count": 31,
   "metadata": {},
   "outputs": [
    {
     "name": "stdout",
     "output_type": "stream",
     "text": [
      "RELIGIOUS        35137\n",
      "NOT SPECIFIED    10816\n",
      "UNOBTAINABLE      7151\n",
      "Name: RELIGION, dtype: int64\n"
     ]
    },
    {
     "name": "stderr",
     "output_type": "stream",
     "text": [
      "/Library/Frameworks/Python.framework/Versions/3.8/lib/python3.8/site-packages/pandas/core/indexing.py:670: SettingWithCopyWarning: \n",
      "A value is trying to be set on a copy of a slice from a DataFrame\n",
      "\n",
      "See the caveats in the documentation: https://pandas.pydata.org/pandas-docs/stable/user_guide/indexing.html#returning-a-view-versus-a-copy\n",
      "  iloc._setitem_with_indexer(indexer, value)\n"
     ]
    }
   ],
   "source": [
    "# Reduce categories to terms of religious or not\n",
    "# I tested with and without category reduction, with little change in R2 score\n",
    "df['RELIGION'].loc[~df['RELIGION'].isin(['NOT SPECIFIED', 'UNOBTAINABLE'])] = 'RELIGIOUS'\n",
    "\n",
    "print(df['RELIGION'].value_counts())"
   ]
  },
  {
   "cell_type": "code",
   "execution_count": 33,
   "metadata": {},
   "outputs": [
    {
     "data": {
      "image/png": "[encoded data removed]",
      "text/plain": [
       "<Figure size 360x288 with 1 Axes>"
      ]
     },
     "metadata": {
      "needs_background": "light"
     },
     "output_type": "display_data"
    }
   ],
   "source": [
    "# Look at median LOS for groups\n",
    "plot_los_groupby(df, 'RELIGION', size=(5,4))"
   ]
  },
  {
   "cell_type": "markdown",
   "metadata": {},
   "source": [
    "## DIAGNOSES_ICD.csv\n",
    "\n",
    "There are about 7000 ICD9 codes in the dataset. It's not feasible to handle all the codes. I will aggregate them into higher levels based on ICD9 code categories. ( https://en.wikipedia.org/wiki/List_of_ICD-9_codes )\n",
    "\n",
    "* List of ICD-9 codes 001–139: infectious and parasitic diseases\n",
    "* List of ICD-9 codes 140–239: neoplasms\n",
    "* List of ICD-9 codes 240–279: endocrine, nutritional and metabolic diseases, and immunity disorders\n",
    "* List of ICD-9 codes 280–289: diseases of the blood and blood-forming organs\n",
    "* List of ICD-9 codes 290–319: mental disorders\n",
    "* List of ICD-9 codes 320–389: diseases of the nervous system and sense organs\n",
    "* List of ICD-9 codes 390–459: diseases of the circulatory system\n",
    "* List of ICD-9 codes 460–519: diseases of the respiratory system\n",
    "* List of ICD-9 codes 520–579: diseases of the digestive system\n",
    "* List of ICD-9 codes 580–629: diseases of the genitourinary system\n",
    "* List of ICD-9 codes 630–679: complications of pregnancy, childbirth, and the puerperium\n",
    "* List of ICD-9 codes 680–709: diseases of the skin and subcutaneous tissue\n",
    "* List of ICD-9 codes 710–739: diseases of the musculoskeletal system and connective tissue\n",
    "* List of ICD-9 codes 740–759: congenital anomalies\n",
    "* List of ICD-9 codes 760–779: certain conditions originating in the perinatal period\n",
    "* List of ICD-9 codes 780–799: symptoms, signs, and ill-defined conditions\n",
    "* List of ICD-9 codes 800–999: injury and poisoning\n",
    "* List of ICD-9 codes E and V codes: external causes of injury and supplemental classification\n"
   ]
  },
  {
   "cell_type": "code",
   "execution_count": 45,
   "metadata": {},
   "outputs": [
    {
     "data": {
      "text/html": [
       "<div>\n",
       "<style scoped>\n",
       "    .dataframe tbody tr th:only-of-type {\n",
       "        vertical-align: middle;\n",
       "    }\n",
       "\n",
       "    .dataframe tbody tr th {\n",
       "        vertical-align: top;\n",
       "    }\n",
       "\n",
       "    .dataframe thead th {\n",
       "        text-align: right;\n",
       "    }\n",
       "</style>\n",
       "<table border=\"1\" class=\"dataframe\">\n",
       "  <thead>\n",
       "    <tr style=\"text-align: right;\">\n",
       "      <th></th>\n",
       "      <th>ROW_ID</th>\n",
       "      <th>SUBJECT_ID</th>\n",
       "      <th>HADM_ID</th>\n",
       "      <th>SEQ_NUM</th>\n",
       "      <th>ICD9_CODE</th>\n",
       "      <th>recode</th>\n",
       "      <th>cat</th>\n",
       "    </tr>\n",
       "  </thead>\n",
       "  <tbody>\n",
       "    <tr>\n",
       "      <th>0</th>\n",
       "      <td>1297</td>\n",
       "      <td>109</td>\n",
       "      <td>172335</td>\n",
       "      <td>1.0</td>\n",
       "      <td>40301</td>\n",
       "      <td>6</td>\n",
       "      <td>circulatory</td>\n",
       "    </tr>\n",
       "    <tr>\n",
       "      <th>1</th>\n",
       "      <td>1298</td>\n",
       "      <td>109</td>\n",
       "      <td>172335</td>\n",
       "      <td>2.0</td>\n",
       "      <td>486</td>\n",
       "      <td>7</td>\n",
       "      <td>respiratory</td>\n",
       "    </tr>\n",
       "    <tr>\n",
       "      <th>2</th>\n",
       "      <td>1299</td>\n",
       "      <td>109</td>\n",
       "      <td>172335</td>\n",
       "      <td>3.0</td>\n",
       "      <td>58281</td>\n",
       "      <td>9</td>\n",
       "      <td>genitourinary</td>\n",
       "    </tr>\n",
       "    <tr>\n",
       "      <th>3</th>\n",
       "      <td>1300</td>\n",
       "      <td>109</td>\n",
       "      <td>172335</td>\n",
       "      <td>4.0</td>\n",
       "      <td>5855</td>\n",
       "      <td>9</td>\n",
       "      <td>genitourinary</td>\n",
       "    </tr>\n",
       "    <tr>\n",
       "      <th>4</th>\n",
       "      <td>1301</td>\n",
       "      <td>109</td>\n",
       "      <td>172335</td>\n",
       "      <td>5.0</td>\n",
       "      <td>4254</td>\n",
       "      <td>6</td>\n",
       "      <td>circulatory</td>\n",
       "    </tr>\n",
       "  </tbody>\n",
       "</table>\n",
       "</div>"
      ],
      "text/plain": [
       "   ROW_ID  SUBJECT_ID  HADM_ID  SEQ_NUM ICD9_CODE  recode            cat\n",
       "0    1297         109   172335      1.0     40301       6    circulatory\n",
       "1    1298         109   172335      2.0       486       7    respiratory\n",
       "2    1299         109   172335      3.0     58281       9  genitourinary\n",
       "3    1300         109   172335      4.0      5855       9  genitourinary\n",
       "4    1301         109   172335      5.0      4254       6    circulatory"
      ]
     },
     "execution_count": 45,
     "metadata": {},
     "output_type": "execute_result"
    }
   ],
   "source": [
    "\n",
    "df_diagcode['recode'] = df_diagcode['ICD9_CODE']\n",
    "df_diagcode['recode'] = df_diagcode['recode'][~df_diagcode['recode'].str.contains(\"[a-zA-Z]\").fillna(False)]\n",
    "df_diagcode['recode'].fillna(value='999', inplace=True)\n",
    "df_diagcode['recode'] = df_diagcode['recode'].str.slice(start=0, stop=3, step=1)\n",
    "df_diagcode['recode'] = df_diagcode['recode'].astype(int)\n",
    "icd9_ranges = [(1, 140), (140, 240), (240, 280), (280, 290), (290, 320), (320, 390), \n",
    "               (390, 460), (460, 520), (520, 580), (580, 630), (630, 680), (680, 710),\n",
    "               (710, 740), (740, 760), (760, 780), (780, 800), (800, 1000), (1000, 2000)]\n",
    "diag_dict = {0: 'infectious', 1: 'neoplasms', 2: 'endocrine', 3: 'blood',\n",
    "             4: 'mental', 5: 'nervous', 6: 'circulatory', 7: 'respiratory',\n",
    "             8: 'digestive', 9: 'genitourinary', 10: 'pregnancy', 11: 'skin', \n",
    "             12: 'muscular', 13: 'congenital', 14: 'prenatal', 15: 'misc',\n",
    "             16: 'injury', 17: 'misc'}\n",
    "for num, cat_range in enumerate(icd9_ranges):\n",
    "    df_diagcode['recode'] = np.where(df_diagcode['recode'].between(cat_range[0],cat_range[1]), \n",
    "            num, df_diagcode['recode'])\n",
    "df_diagcode['recode'] = df_diagcode['recode']\n",
    "df_diagcode['cat'] = df_diagcode['recode'].replace(diag_dict)\n",
    "# Verify\n",
    "df_diagcode.head()"
   ]
  },
  {
   "cell_type": "code",
   "execution_count": 46,
   "metadata": {},
   "outputs": [
    {
     "data": {
      "text/html": [
       "<div>\n",
       "<style scoped>\n",
       "    .dataframe tbody tr th:only-of-type {\n",
       "        vertical-align: middle;\n",
       "    }\n",
       "\n",
       "    .dataframe tbody tr th {\n",
       "        vertical-align: top;\n",
       "    }\n",
       "\n",
       "    .dataframe thead th {\n",
       "        text-align: right;\n",
       "    }\n",
       "</style>\n",
       "<table border=\"1\" class=\"dataframe\">\n",
       "  <thead>\n",
       "    <tr style=\"text-align: right;\">\n",
       "      <th></th>\n",
       "      <th>HADM_ID</th>\n",
       "      <th>cat</th>\n",
       "    </tr>\n",
       "  </thead>\n",
       "  <tbody>\n",
       "    <tr>\n",
       "      <th>0</th>\n",
       "      <td>100001</td>\n",
       "      <td>[endocrine, nervous, genitourinary, digestive,...</td>\n",
       "    </tr>\n",
       "    <tr>\n",
       "      <th>1</th>\n",
       "      <td>100003</td>\n",
       "      <td>[digestive, blood, infectious, digestive, circ...</td>\n",
       "    </tr>\n",
       "    <tr>\n",
       "      <th>2</th>\n",
       "      <td>100006</td>\n",
       "      <td>[respiratory, respiratory, respiratory, neopla...</td>\n",
       "    </tr>\n",
       "    <tr>\n",
       "      <th>3</th>\n",
       "      <td>100007</td>\n",
       "      <td>[digestive, digestive, injury, respiratory, ci...</td>\n",
       "    </tr>\n",
       "    <tr>\n",
       "      <th>4</th>\n",
       "      <td>100009</td>\n",
       "      <td>[circulatory, injury, circulatory, endocrine, ...</td>\n",
       "    </tr>\n",
       "  </tbody>\n",
       "</table>\n",
       "</div>"
      ],
      "text/plain": [
       "   HADM_ID                                                cat\n",
       "0   100001  [endocrine, nervous, genitourinary, digestive,...\n",
       "1   100003  [digestive, blood, infectious, digestive, circ...\n",
       "2   100006  [respiratory, respiratory, respiratory, neopla...\n",
       "3   100007  [digestive, digestive, injury, respiratory, ci...\n",
       "4   100009  [circulatory, injury, circulatory, endocrine, ..."
      ]
     },
     "execution_count": 46,
     "metadata": {},
     "output_type": "execute_result"
    }
   ],
   "source": [
    "hadm_list = df_diagcode.groupby('HADM_ID')['cat'].apply(list).reset_index()\n",
    "hadm_list.head()"
   ]
  },
  {
   "cell_type": "code",
   "execution_count": 47,
   "metadata": {},
   "outputs": [
    {
     "data": {
      "text/html": [
       "<div>\n",
       "<style scoped>\n",
       "    .dataframe tbody tr th:only-of-type {\n",
       "        vertical-align: middle;\n",
       "    }\n",
       "\n",
       "    .dataframe tbody tr th {\n",
       "        vertical-align: top;\n",
       "    }\n",
       "\n",
       "    .dataframe thead th {\n",
       "        text-align: right;\n",
       "    }\n",
       "</style>\n",
       "<table border=\"1\" class=\"dataframe\">\n",
       "  <thead>\n",
       "    <tr style=\"text-align: right;\">\n",
       "      <th></th>\n",
       "      <th>blood</th>\n",
       "      <th>circulatory</th>\n",
       "      <th>congenital</th>\n",
       "      <th>digestive</th>\n",
       "      <th>endocrine</th>\n",
       "      <th>genitourinary</th>\n",
       "      <th>infectious</th>\n",
       "      <th>injury</th>\n",
       "      <th>mental</th>\n",
       "      <th>misc</th>\n",
       "      <th>muscular</th>\n",
       "      <th>neoplasms</th>\n",
       "      <th>nervous</th>\n",
       "      <th>pregnancy</th>\n",
       "      <th>prenatal</th>\n",
       "      <th>respiratory</th>\n",
       "      <th>skin</th>\n",
       "    </tr>\n",
       "  </thead>\n",
       "  <tbody>\n",
       "    <tr>\n",
       "      <th>0</th>\n",
       "      <td>0</td>\n",
       "      <td>2</td>\n",
       "      <td>0</td>\n",
       "      <td>2</td>\n",
       "      <td>5</td>\n",
       "      <td>2</td>\n",
       "      <td>0</td>\n",
       "      <td>2</td>\n",
       "      <td>0</td>\n",
       "      <td>0</td>\n",
       "      <td>0</td>\n",
       "      <td>0</td>\n",
       "      <td>2</td>\n",
       "      <td>0</td>\n",
       "      <td>0</td>\n",
       "      <td>0</td>\n",
       "      <td>1</td>\n",
       "    </tr>\n",
       "    <tr>\n",
       "      <th>1</th>\n",
       "      <td>1</td>\n",
       "      <td>2</td>\n",
       "      <td>0</td>\n",
       "      <td>4</td>\n",
       "      <td>0</td>\n",
       "      <td>0</td>\n",
       "      <td>1</td>\n",
       "      <td>0</td>\n",
       "      <td>0</td>\n",
       "      <td>1</td>\n",
       "      <td>0</td>\n",
       "      <td>0</td>\n",
       "      <td>0</td>\n",
       "      <td>0</td>\n",
       "      <td>0</td>\n",
       "      <td>0</td>\n",
       "      <td>0</td>\n",
       "    </tr>\n",
       "    <tr>\n",
       "      <th>2</th>\n",
       "      <td>0</td>\n",
       "      <td>0</td>\n",
       "      <td>0</td>\n",
       "      <td>0</td>\n",
       "      <td>1</td>\n",
       "      <td>0</td>\n",
       "      <td>0</td>\n",
       "      <td>2</td>\n",
       "      <td>1</td>\n",
       "      <td>1</td>\n",
       "      <td>0</td>\n",
       "      <td>1</td>\n",
       "      <td>0</td>\n",
       "      <td>0</td>\n",
       "      <td>0</td>\n",
       "      <td>3</td>\n",
       "      <td>0</td>\n",
       "    </tr>\n",
       "    <tr>\n",
       "      <th>3</th>\n",
       "      <td>0</td>\n",
       "      <td>1</td>\n",
       "      <td>0</td>\n",
       "      <td>2</td>\n",
       "      <td>0</td>\n",
       "      <td>0</td>\n",
       "      <td>0</td>\n",
       "      <td>1</td>\n",
       "      <td>0</td>\n",
       "      <td>0</td>\n",
       "      <td>0</td>\n",
       "      <td>0</td>\n",
       "      <td>0</td>\n",
       "      <td>0</td>\n",
       "      <td>0</td>\n",
       "      <td>1</td>\n",
       "      <td>0</td>\n",
       "    </tr>\n",
       "    <tr>\n",
       "      <th>4</th>\n",
       "      <td>1</td>\n",
       "      <td>7</td>\n",
       "      <td>0</td>\n",
       "      <td>0</td>\n",
       "      <td>3</td>\n",
       "      <td>0</td>\n",
       "      <td>0</td>\n",
       "      <td>7</td>\n",
       "      <td>0</td>\n",
       "      <td>0</td>\n",
       "      <td>0</td>\n",
       "      <td>0</td>\n",
       "      <td>0</td>\n",
       "      <td>0</td>\n",
       "      <td>0</td>\n",
       "      <td>0</td>\n",
       "      <td>0</td>\n",
       "    </tr>\n",
       "  </tbody>\n",
       "</table>\n",
       "</div>"
      ],
      "text/plain": [
       "   blood  circulatory  congenital  digestive  endocrine  genitourinary  \\\n",
       "0      0            2           0          2          5              2   \n",
       "1      1            2           0          4          0              0   \n",
       "2      0            0           0          0          1              0   \n",
       "3      0            1           0          2          0              0   \n",
       "4      1            7           0          0          3              0   \n",
       "\n",
       "   infectious  injury  mental  misc  muscular  neoplasms  nervous  pregnancy  \\\n",
       "0           0       2       0     0         0          0        2          0   \n",
       "1           1       0       0     1         0          0        0          0   \n",
       "2           0       2       1     1         0          1        0          0   \n",
       "3           0       1       0     0         0          0        0          0   \n",
       "4           0       7       0     0         0          0        0          0   \n",
       "\n",
       "   prenatal  respiratory  skin  \n",
       "0         0            0     1  \n",
       "1         0            0     0  \n",
       "2         0            3     0  \n",
       "3         0            1     0  \n",
       "4         0            0     0  "
      ]
     },
     "execution_count": 47,
     "metadata": {},
     "output_type": "execute_result"
    }
   ],
   "source": [
    "\n",
    "hadm_item = pd.get_dummies(hadm_list['cat'].apply(pd.Series).stack()).sum(level=0)\n",
    "hadm_item.head()"
   ]
  },
  {
   "cell_type": "code",
   "execution_count": 48,
   "metadata": {},
   "outputs": [
    {
     "data": {
      "text/html": [
       "<div>\n",
       "<style scoped>\n",
       "    .dataframe tbody tr th:only-of-type {\n",
       "        vertical-align: middle;\n",
       "    }\n",
       "\n",
       "    .dataframe tbody tr th {\n",
       "        vertical-align: top;\n",
       "    }\n",
       "\n",
       "    .dataframe thead th {\n",
       "        text-align: right;\n",
       "    }\n",
       "</style>\n",
       "<table border=\"1\" class=\"dataframe\">\n",
       "  <thead>\n",
       "    <tr style=\"text-align: right;\">\n",
       "      <th></th>\n",
       "      <th>blood</th>\n",
       "      <th>circulatory</th>\n",
       "      <th>congenital</th>\n",
       "      <th>digestive</th>\n",
       "      <th>endocrine</th>\n",
       "      <th>genitourinary</th>\n",
       "      <th>infectious</th>\n",
       "      <th>injury</th>\n",
       "      <th>mental</th>\n",
       "      <th>misc</th>\n",
       "      <th>muscular</th>\n",
       "      <th>neoplasms</th>\n",
       "      <th>nervous</th>\n",
       "      <th>pregnancy</th>\n",
       "      <th>prenatal</th>\n",
       "      <th>respiratory</th>\n",
       "      <th>skin</th>\n",
       "      <th>HADM_ID</th>\n",
       "    </tr>\n",
       "  </thead>\n",
       "  <tbody>\n",
       "    <tr>\n",
       "      <th>0</th>\n",
       "      <td>0</td>\n",
       "      <td>2</td>\n",
       "      <td>0</td>\n",
       "      <td>2</td>\n",
       "      <td>5</td>\n",
       "      <td>2</td>\n",
       "      <td>0</td>\n",
       "      <td>2</td>\n",
       "      <td>0</td>\n",
       "      <td>0</td>\n",
       "      <td>0</td>\n",
       "      <td>0</td>\n",
       "      <td>2</td>\n",
       "      <td>0</td>\n",
       "      <td>0</td>\n",
       "      <td>0</td>\n",
       "      <td>1</td>\n",
       "      <td>100001</td>\n",
       "    </tr>\n",
       "    <tr>\n",
       "      <th>1</th>\n",
       "      <td>1</td>\n",
       "      <td>2</td>\n",
       "      <td>0</td>\n",
       "      <td>4</td>\n",
       "      <td>0</td>\n",
       "      <td>0</td>\n",
       "      <td>1</td>\n",
       "      <td>0</td>\n",
       "      <td>0</td>\n",
       "      <td>1</td>\n",
       "      <td>0</td>\n",
       "      <td>0</td>\n",
       "      <td>0</td>\n",
       "      <td>0</td>\n",
       "      <td>0</td>\n",
       "      <td>0</td>\n",
       "      <td>0</td>\n",
       "      <td>100003</td>\n",
       "    </tr>\n",
       "    <tr>\n",
       "      <th>2</th>\n",
       "      <td>0</td>\n",
       "      <td>0</td>\n",
       "      <td>0</td>\n",
       "      <td>0</td>\n",
       "      <td>1</td>\n",
       "      <td>0</td>\n",
       "      <td>0</td>\n",
       "      <td>2</td>\n",
       "      <td>1</td>\n",
       "      <td>1</td>\n",
       "      <td>0</td>\n",
       "      <td>1</td>\n",
       "      <td>0</td>\n",
       "      <td>0</td>\n",
       "      <td>0</td>\n",
       "      <td>3</td>\n",
       "      <td>0</td>\n",
       "      <td>100006</td>\n",
       "    </tr>\n",
       "    <tr>\n",
       "      <th>3</th>\n",
       "      <td>0</td>\n",
       "      <td>1</td>\n",
       "      <td>0</td>\n",
       "      <td>2</td>\n",
       "      <td>0</td>\n",
       "      <td>0</td>\n",
       "      <td>0</td>\n",
       "      <td>1</td>\n",
       "      <td>0</td>\n",
       "      <td>0</td>\n",
       "      <td>0</td>\n",
       "      <td>0</td>\n",
       "      <td>0</td>\n",
       "      <td>0</td>\n",
       "      <td>0</td>\n",
       "      <td>1</td>\n",
       "      <td>0</td>\n",
       "      <td>100007</td>\n",
       "    </tr>\n",
       "    <tr>\n",
       "      <th>4</th>\n",
       "      <td>1</td>\n",
       "      <td>7</td>\n",
       "      <td>0</td>\n",
       "      <td>0</td>\n",
       "      <td>3</td>\n",
       "      <td>0</td>\n",
       "      <td>0</td>\n",
       "      <td>7</td>\n",
       "      <td>0</td>\n",
       "      <td>0</td>\n",
       "      <td>0</td>\n",
       "      <td>0</td>\n",
       "      <td>0</td>\n",
       "      <td>0</td>\n",
       "      <td>0</td>\n",
       "      <td>0</td>\n",
       "      <td>0</td>\n",
       "      <td>100009</td>\n",
       "    </tr>\n",
       "  </tbody>\n",
       "</table>\n",
       "</div>"
      ],
      "text/plain": [
       "   blood  circulatory  congenital  digestive  endocrine  genitourinary  \\\n",
       "0      0            2           0          2          5              2   \n",
       "1      1            2           0          4          0              0   \n",
       "2      0            0           0          0          1              0   \n",
       "3      0            1           0          2          0              0   \n",
       "4      1            7           0          0          3              0   \n",
       "\n",
       "   infectious  injury  mental  misc  muscular  neoplasms  nervous  pregnancy  \\\n",
       "0           0       2       0     0         0          0        2          0   \n",
       "1           1       0       0     1         0          0        0          0   \n",
       "2           0       2       1     1         0          1        0          0   \n",
       "3           0       1       0     0         0          0        0          0   \n",
       "4           0       7       0     0         0          0        0          0   \n",
       "\n",
       "   prenatal  respiratory  skin  HADM_ID  \n",
       "0         0            0     1   100001  \n",
       "1         0            0     0   100003  \n",
       "2         0            3     0   100006  \n",
       "3         0            1     0   100007  \n",
       "4         0            0     0   100009  "
      ]
     },
     "execution_count": 48,
     "metadata": {},
     "output_type": "execute_result"
    }
   ],
   "source": [
    "hadm_item = hadm_item.join(hadm_list['HADM_ID'], how=\"outer\")\n"
   ]
  },
  {
   "cell_type": "code",
   "execution_count": 49,
   "metadata": {},
   "outputs": [],
   "source": [
    "df = df.merge(hadm_item, how='inner', on='HADM_ID')"
   ]
  },
  {
   "cell_type": "code",
   "execution_count": 50,
   "metadata": {},
   "outputs": [
    {
     "data": {
      "image/png": "[encoded data removed]",
      "text/plain": [
       "<Figure size 504x360 with 1 Axes>"
      ]
     },
     "metadata": {},
     "output_type": "display_data"
    }
   ],
   "source": [
    "# Look at the median LOS by diagnosis category\n",
    "diag_cat_list = ['skin', 'infectious',  'misc', 'genitourinary', 'neoplasms', 'blood', 'respiratory', \n",
    "                  'congenital','nervous', 'muscular', 'digestive', 'mental', 'endocrine', 'injury',\n",
    "                 'circulatory', 'prenatal',  'pregnancy']\n",
    "\n",
    "results = []\n",
    "for variable in diag_cat_list:\n",
    "    results.append(df[[variable, 'LOS']].groupby(variable).median().reset_index().values[1][1])\n",
    "\n",
    "sns.set(style=\"whitegrid\")\n",
    "#sns.set_style(\"ticks\")\n",
    "fig, ax = plt.subplots(figsize=(7,5))\n",
    "ind = range(len(results))\n",
    "ax.barh(ind, results, align='edge', color = '#55a868', alpha=0.8)\n",
    "ax.set_yticks(ind)\n",
    "ax.set_yticklabels(diag_cat_list)\n",
    "ax.set_xlabel('Median Length of Stay (days)')\n",
    "ax.tick_params(left=False, right=False, top=False) \n",
    "ax.set_title('Comparison of Diagnoses'.format(variable))\n",
    "plt.show();"
   ]
  },
  {
   "cell_type": "markdown",
   "metadata": {},
   "source": [
    "## PATIENTS.csv\n",
    "\n",
    "the data set provides date of birth but not age. I will calculate age. \n",
    "\n"
   ]
  },
  {
   "cell_type": "code",
   "execution_count": 52,
   "metadata": {},
   "outputs": [],
   "source": [
    "df_pat['DOB'] = pd.to_datetime(df_pat['DOB'])\n",
    "df = df.merge(df_pat, how='inner', on='SUBJECT_ID')"
   ]
  },
  {
   "cell_type": "code",
   "execution_count": 53,
   "metadata": {},
   "outputs": [
    {
     "data": {
      "image/png": "[encoded data removed]",
      "text/plain": [
       "<Figure size 576x288 with 1 Axes>"
      ]
     },
     "metadata": {},
     "output_type": "display_data"
    }
   ],
   "source": [
    "boxplot_los_groupby(df, 'GENDER', los_range=(-1, 30))"
   ]
  },
  {
   "cell_type": "code",
   "execution_count": 55,
   "metadata": {},
   "outputs": [],
   "source": [
    "df_age_min = df[['SUBJECT_ID', 'ADMITTIME']].groupby('SUBJECT_ID').min().reset_index()\n",
    "df_age_min.columns = ['SUBJECT_ID', 'ADMIT_MIN']\n",
    "df = df.merge(df_age_min, how='outer', on='SUBJECT_ID')"
   ]
  },
  {
   "cell_type": "code",
   "execution_count": 58,
   "metadata": {},
   "outputs": [],
   "source": [
    "df['ADMIT_MIN_temp'] = df['ADMIT_MIN'].apply(lambda x : int(str(x)[0:4]))\n",
    "df['DOB_temp'] = df['DOB'].apply(lambda x : int(str(x)[0:4]))\n",
    "df['age'] = (df['ADMIT_MIN_temp'] - df['DOB_temp'])\n",
    "df['age'] = np.where(df['age'] < 0, 90, df['age'])\n",
    "\n",
    "df['age'] = np.where(df['age'] >200, 90, df['age'])"
   ]
  },
  {
   "cell_type": "code",
   "execution_count": 59,
   "metadata": {},
   "outputs": [
    {
     "data": {
      "image/png": "[encoded data removed]",
      "text/plain": [
       "<Figure size 432x288 with 1 Axes>"
      ]
     },
     "metadata": {},
     "output_type": "display_data"
    }
   ],
   "source": [
    "# Note that no ‘middle’ patients show up - this reflects the fact that MIMIC-III does not contain data from pediatric patients.\n",
    "plt.hist(df['age'], bins=20, color='#c44e52')\n",
    "plt.ylabel('Count')\n",
    "plt.xlabel('Age (years)')\n",
    "plt.title('Distribution of Age in MIMIC-III')\n",
    "plt.tick_params(left=False, bottom=False, top=False, right=False) \n",
    "plt.show();"
   ]
  },
  {
   "cell_type": "code",
   "execution_count": 60,
   "metadata": {},
   "outputs": [
    {
     "data": {
      "text/plain": [
       "(1.0, 50.0)"
      ]
     },
     "execution_count": 60,
     "metadata": {},
     "output_type": "execute_result"
    },
    {
     "data": {
      "image/png": "[encoded data removed]",
      "text/plain": [
       "<Figure size 432x288 with 1 Axes>"
      ]
     },
     "metadata": {},
     "output_type": "display_data"
    }
   ],
   "source": [
    "plt.scatter(df['age'], df['LOS'], alpha=0.005)\n",
    "#plt.yscale('sqrt')\n",
    "plt.ylabel('LOS (days)')\n",
    "plt.xlabel('Age (years)')\n",
    "plt.title('Age versus Length-of-stay')\n",
    "plt.ylim(1, 50)"
   ]
  },
  {
   "cell_type": "code",
   "execution_count": 69,
   "metadata": {},
   "outputs": [],
   "source": [
    "\n",
    "age_ranges = [(0, 13), (13, 36), (36, 56), (56, 100)]\n",
    "for num, cat_range in enumerate(age_ranges):\n",
    "    df['age'] = np.where(df['age'].between(cat_range[0],cat_range[1]), \n",
    "            num, df['age'])\n",
    "    \n",
    "age_dict = {0: 'newborn', 1: 'young_adult', 2: 'middle_adult', 3: 'senior'}\n",
    "df['age'] = df['age'].replace(age_dict)\n",
    "\n",
    "df.age.value_counts()"
   ]
  },
  {
   "cell_type": "code",
   "execution_count": 65,
   "metadata": {},
   "outputs": [
    {
     "data": {
      "text/plain": [
       "senior          29660\n",
       "middle_adult    11488\n",
       "young_adult      3914\n",
       "Name: age, dtype: int64"
      ]
     },
     "execution_count": 65,
     "metadata": {},
     "output_type": "execute_result"
    }
   ],
   "source": []
  },
  {
   "cell_type": "markdown",
   "metadata": {},
   "source": [
    "## ICUSTAYS.csv"
   ]
  },
  {
   "cell_type": "code",
   "execution_count": 70,
   "metadata": {},
   "outputs": [
    {
     "data": {
      "text/html": [
       "<div>\n",
       "<style scoped>\n",
       "    .dataframe tbody tr th:only-of-type {\n",
       "        vertical-align: middle;\n",
       "    }\n",
       "\n",
       "    .dataframe tbody tr th {\n",
       "        vertical-align: top;\n",
       "    }\n",
       "\n",
       "    .dataframe thead th {\n",
       "        text-align: right;\n",
       "    }\n",
       "</style>\n",
       "<table border=\"1\" class=\"dataframe\">\n",
       "  <thead>\n",
       "    <tr style=\"text-align: right;\">\n",
       "      <th></th>\n",
       "      <th>ICU</th>\n",
       "      <th>NICU</th>\n",
       "      <th>HADM_ID</th>\n",
       "    </tr>\n",
       "  </thead>\n",
       "  <tbody>\n",
       "    <tr>\n",
       "      <th>0</th>\n",
       "      <td>1</td>\n",
       "      <td>0</td>\n",
       "      <td>100001</td>\n",
       "    </tr>\n",
       "    <tr>\n",
       "      <th>1</th>\n",
       "      <td>1</td>\n",
       "      <td>0</td>\n",
       "      <td>100003</td>\n",
       "    </tr>\n",
       "    <tr>\n",
       "      <th>2</th>\n",
       "      <td>1</td>\n",
       "      <td>0</td>\n",
       "      <td>100006</td>\n",
       "    </tr>\n",
       "    <tr>\n",
       "      <th>3</th>\n",
       "      <td>1</td>\n",
       "      <td>0</td>\n",
       "      <td>100007</td>\n",
       "    </tr>\n",
       "    <tr>\n",
       "      <th>4</th>\n",
       "      <td>1</td>\n",
       "      <td>0</td>\n",
       "      <td>100009</td>\n",
       "    </tr>\n",
       "  </tbody>\n",
       "</table>\n",
       "</div>"
      ],
      "text/plain": [
       "   ICU  NICU  HADM_ID\n",
       "0    1     0   100001\n",
       "1    1     0   100003\n",
       "2    1     0   100006\n",
       "3    1     0   100007\n",
       "4    1     0   100009"
      ]
     },
     "execution_count": 70,
     "metadata": {},
     "output_type": "execute_result"
    }
   ],
   "source": [
    "\n",
    "df_icu['FIRST_CAREUNIT'].replace({'CCU': 'ICU', 'CSRU': 'ICU', 'MICU': 'ICU',\n",
    "                                  'SICU': 'ICU', 'TSICU': 'ICU'}, inplace=True)\n",
    "df_icu['cat'] = df_icu['FIRST_CAREUNIT']\n",
    "icu_list = df_icu.groupby('HADM_ID')['cat'].apply(list).reset_index()\n",
    "\n",
    "icu_item = pd.get_dummies(icu_list['cat'].apply(pd.Series).stack()).sum(level=0)\n",
    "icu_item[icu_item >= 1] = 1\n",
    "icu_item = icu_item.join(icu_list['HADM_ID'], how=\"outer\")\n",
    "icu_item.head()"
   ]
  },
  {
   "cell_type": "code",
   "execution_count": 71,
   "metadata": {},
   "outputs": [],
   "source": [
    "df = df.merge(icu_item, how='outer', on='HADM_ID')\n",
    "df['ICU'].fillna(value=0, inplace=True)\n",
    "df['NICU'].fillna(value=0, inplace=True)"
   ]
  },
  {
   "cell_type": "code",
   "execution_count": 76,
   "metadata": {},
   "outputs": [
    {
     "name": "stdout",
     "output_type": "stream",
     "text": [
      "<class 'pandas.core.frame.DataFrame'>\n",
      "Int64Index: 58811 entries, 0 to 58810\n",
      "Data columns (total 36 columns):\n",
      " #   Column                Non-Null Count  Dtype         \n",
      "---  ------                --------------  -----         \n",
      " 0   ROW_ID_x              45062 non-null  float64       \n",
      " 1   DISCHTIME             45062 non-null  datetime64[ns]\n",
      " 2   ADMISSION_TYPE        45062 non-null  object        \n",
      " 3   INSURANCE             45062 non-null  object        \n",
      " 4   RELIGION              45062 non-null  object        \n",
      " 5   MARITAL_STATUS        45062 non-null  object        \n",
      " 6   ETHNICITY             45062 non-null  object        \n",
      " 7   EDREGTIME             26783 non-null  object        \n",
      " 8   EDOUTTIME             26783 non-null  object        \n",
      " 9   HAS_CHARTEVENTS_DATA  45062 non-null  float64       \n",
      " 10  LOS                   45062 non-null  float64       \n",
      " 11  blood                 45062 non-null  float64       \n",
      " 12  circulatory           45062 non-null  float64       \n",
      " 13  congenital            45062 non-null  float64       \n",
      " 14  digestive             45062 non-null  float64       \n",
      " 15  endocrine             45062 non-null  float64       \n",
      " 16  genitourinary         45062 non-null  float64       \n",
      " 17  infectious            45062 non-null  float64       \n",
      " 18  injury                45062 non-null  float64       \n",
      " 19  mental                45062 non-null  float64       \n",
      " 20  misc                  45062 non-null  float64       \n",
      " 21  muscular              45062 non-null  float64       \n",
      " 22  neoplasms             45062 non-null  float64       \n",
      " 23  nervous               45062 non-null  float64       \n",
      " 24  pregnancy             45062 non-null  float64       \n",
      " 25  prenatal              45062 non-null  float64       \n",
      " 26  respiratory           45062 non-null  float64       \n",
      " 27  skin                  45062 non-null  float64       \n",
      " 28  ROW_ID_y              45062 non-null  float64       \n",
      " 29  GENDER                45062 non-null  object        \n",
      " 30  DOD                   16724 non-null  object        \n",
      " 31  DOD_HOSP              9211 non-null   object        \n",
      " 32  DOD_SSN               14694 non-null  object        \n",
      " 33  age                   45062 non-null  object        \n",
      " 34  ICU                   58811 non-null  float64       \n",
      " 35  NICU                  58811 non-null  float64       \n",
      "dtypes: datetime64[ns](1), float64(23), object(12)\n",
      "memory usage: 16.6+ MB\n"
     ]
    }
   ],
   "source": [
    "df.drop(columns=['SUBJECT_ID', 'HADM_ID', 'ADMITTIME', 'ADMISSION_LOCATION',\n",
    "                'DISCHARGE_LOCATION', 'LANGUAGE', 'ADMIT_MIN', 'DOB', 'ADMIT_MIN_temp', 'DOB_temp',\n",
    "                'DIAGNOSIS', 'DECEASED',  'DEATHTIME', 'HOSPITAL_EXPIRE_FLAG','EXPIRE_FLAG'], inplace=True)\n",
    "\n",
    "df.info()"
   ]
  }
 ],
 "metadata": {
  "kernelspec": {
   "display_name": "Python 3",
   "language": "python",
   "name": "python3"
  },
  "language_info": {
   "codemirror_mode": {
    "name": "ipython",
    "version": 3
   },
   "file_extension": ".py",
   "mimetype": "text/x-python",
   "name": "python",
   "nbconvert_exporter": "python",
   "pygments_lexer": "ipython3",
   "version": "3.8.5"
  }
 },
 "nbformat": 4,
 "nbformat_minor": 4
}
