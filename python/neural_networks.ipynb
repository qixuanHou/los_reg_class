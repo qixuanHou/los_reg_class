{
 "cells": [
  {
   "cell_type": "code",
   "execution_count": 64,
   "metadata": {},
   "outputs": [],
   "source": [
    "# Imports\n",
    "import pandas as pd\n",
    "from numpy import loadtxt\n",
    "from keras.models import Sequential\n",
    "from keras.layers import Dense\n"
   ]
  },
  {
   "cell_type": "code",
   "execution_count": 65,
   "metadata": {},
   "outputs": [],
   "source": [
    "df_clean = pd.read_csv('data/cleaned.csv')"
   ]
  },
  {
   "cell_type": "code",
   "execution_count": 66,
   "metadata": {},
   "outputs": [],
   "source": [
    "\n",
    "df_clean['label']  = df_clean[\"LOS\"].apply(lambda x : 0 if x > 6 else 1)\n",
    "\n",
    "# Target Variable (Length-of-Stay)\n",
    "ctarget = df_clean['label'].values\n",
    "# Prediction Features\n",
    "cfeature = df_clean.drop(columns=['LOS', 'label'])"
   ]
  },
  {
   "cell_type": "code",
   "execution_count": 68,
   "metadata": {},
   "outputs": [],
   "source": [
    "# Split into train 80% and test 20%\n",
    "X_train, X_test, y_train, y_test = train_test_split(cfeature, \n",
    "                                                    ctarget, \n",
    "                                                    test_size = .20, \n",
    "                                                    random_state = 0)\n"
   ]
  },
  {
   "cell_type": "code",
   "execution_count": 59,
   "metadata": {},
   "outputs": [],
   "source": [
    "# define the keras model\n",
    "model = Sequential()\n",
    "model.add(Dense(53 * 2, input_dim=53, activation='sigmoid'))\n",
    "model.add(Dense(53 * 4, activation='sigmoid'))\n",
    "model.add(Dense(53 * 2, activation='sigmoid'))\n",
    "model.add(Dense(53 , activation='sigmoid'))\n",
    "model.add(Dense(1, activation='sigmoid'))\n",
    "\n",
    "# compile the keras model\n",
    "model.compile(loss='binary_crossentropy', optimizer='adam', metrics=['accuracy'])\n"
   ]
  },
  {
   "cell_type": "code",
   "execution_count": 61,
   "metadata": {},
   "outputs": [
    {
     "name": "stdout",
     "output_type": "stream",
     "text": [
      "Epoch 1/15\n",
      "4249/4249 [==============================] - 3s 816us/step - loss: 0.6900 - accuracy: 0.5399\n",
      "Epoch 2/15\n",
      "4249/4249 [==============================] - 3s 794us/step - loss: 0.6900 - accuracy: 0.5399\n",
      "Epoch 3/15\n",
      "4249/4249 [==============================] - 3s 793us/step - loss: 0.6900 - accuracy: 0.5399\n",
      "Epoch 4/15\n",
      "4249/4249 [==============================] - 3s 789us/step - loss: 0.6900 - accuracy: 0.5399\n",
      "Epoch 5/15\n",
      "4249/4249 [==============================] - 3s 788us/step - loss: 0.6900 - accuracy: 0.5399\n",
      "Epoch 6/15\n",
      "4249/4249 [==============================] - 3s 788us/step - loss: 0.6900 - accuracy: 0.5399\n",
      "Epoch 7/15\n",
      "4249/4249 [==============================] - 3s 788us/step - loss: 0.6900 - accuracy: 0.5399\n",
      "Epoch 8/15\n",
      "4249/4249 [==============================] - 3s 803us/step - loss: 0.6900 - accuracy: 0.5399\n",
      "Epoch 9/15\n",
      "4249/4249 [==============================] - 3s 813us/step - loss: 0.6900 - accuracy: 0.5399\n",
      "Epoch 10/15\n",
      "4249/4249 [==============================] - 3s 814us/step - loss: 0.6900 - accuracy: 0.5399\n",
      "Epoch 11/15\n",
      "4249/4249 [==============================] - 3s 811us/step - loss: 0.6900 - accuracy: 0.5399\n",
      "Epoch 12/15\n",
      "4249/4249 [==============================] - 3s 814us/step - loss: 0.6900 - accuracy: 0.5399\n",
      "Epoch 13/15\n",
      "4249/4249 [==============================] - 3s 814us/step - loss: 0.6900 - accuracy: 0.5399\n",
      "Epoch 14/15\n",
      "4249/4249 [==============================] - 3s 814us/step - loss: 0.6900 - accuracy: 0.5399\n",
      "Epoch 15/15\n",
      "4249/4249 [==============================] - 3s 814us/step - loss: 0.6900 - accuracy: 0.5399\n"
     ]
    },
    {
     "data": {
      "text/plain": [
       "<tensorflow.python.keras.callbacks.History at 0x7fe9b62fd490>"
      ]
     },
     "execution_count": 61,
     "metadata": {},
     "output_type": "execute_result"
    }
   ],
   "source": [
    "model.fit(X_train, y_train, epochs=15, batch_size=10)"
   ]
  },
  {
   "cell_type": "code",
   "execution_count": 62,
   "metadata": {},
   "outputs": [
    {
     "name": "stdout",
     "output_type": "stream",
     "text": [
      "332/332 [==============================] - 0s 501us/step - loss: 0.6905 - accuracy: 0.5370\n",
      "Accuracy: 53.70\n"
     ]
    }
   ],
   "source": [
    "_, accuracy = model.evaluate(X_test, y_test)\n",
    "print('Accuracy: %.2f' % (accuracy*100))"
   ]
  },
  {
   "cell_type": "code",
   "execution_count": 63,
   "metadata": {},
   "outputs": [
    {
     "data": {
      "text/plain": [
       "0.5"
      ]
     },
     "execution_count": 63,
     "metadata": {},
     "output_type": "execute_result"
    }
   ],
   "source": [
    "y_pred = model.predict(X_test)\n",
    "from sklearn.metrics import roc_curve, auc \n",
    "\n",
    "false_positive_rate, true_positive_rate, thresholds = roc_curve(y_test, y_pred)\n",
    "roc_auc = auc(false_positive_rate, true_positive_rate)\n",
    "roc_auc"
   ]
  },
  {
   "cell_type": "code",
   "execution_count": null,
   "metadata": {},
   "outputs": [],
   "source": []
  }
 ],
 "metadata": {
  "kernelspec": {
   "display_name": "Python 3",
   "language": "python",
   "name": "python3"
  },
  "language_info": {
   "codemirror_mode": {
    "name": "ipython",
    "version": 3
   },
   "file_extension": ".py",
   "mimetype": "text/x-python",
   "name": "python",
   "nbconvert_exporter": "python",
   "pygments_lexer": "ipython3",
   "version": "3.8.5"
  }
 },
 "nbformat": 4,
 "nbformat_minor": 4
}
